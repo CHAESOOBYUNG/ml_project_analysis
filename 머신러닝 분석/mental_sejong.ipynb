{
 "cells": [
  {
   "cell_type": "code",
   "execution_count": null,
   "metadata": {
    "vscode": {
     "languageId": "plaintext"
    }
   },
   "outputs": [],
   "source": [
    "# 먼저 업로드된 파일을 확인하여 데이터 내용을 살펴보겠습니다.\n",
    "import pandas as pd\n",
    "\n",
    "# 파일 경로\n",
    "file_path = '정신질환 사망률.csv'\n",
    "\n",
    "# 파일 로드\n",
    "data = pd.read_csv(file_path)\n",
    "data.head()"
   ]
  },
  {
   "cell_type": "code",
   "execution_count": null,
   "metadata": {
    "vscode": {
     "languageId": "plaintext"
    }
   },
   "outputs": [],
   "source": [
    "from statsmodels.tsa.arima.model import ARIMA\n",
    "import matplotlib.pyplot as plt\n",
    "\n",
    "# ARIMA 모델 학습 및 예측\n",
    "def arima_forecast(data, order, forecast_steps):\n",
    "    model = ARIMA(data, order=order)\n",
    "    result = model.fit()\n",
    "    forecast = result.get_forecast(steps=forecast_steps)\n",
    "    forecast_index = pd.date_range(start=data.index[-1] + pd.DateOffset(years=1), periods=forecast_steps, freq='Y')\n",
    "    forecast_series = pd.Series(forecast.predicted_mean.values, index=forecast_index)\n",
    "    return forecast_series, result\n",
    "\n",
    "# ARIMA 모델 설정 (p=1, d=1, q=1)\n",
    "order = (1, 1, 1)\n",
    "forecast_steps = 50  # 향후 50년 예측\n",
    "\n",
    "# 모델 학습 및 예측\n",
    "forecast, model_result = arima_forecast(add_up_data[\"Mental\"], order, forecast_steps)\n",
    "\n",
    "# 결과 요약\n",
    "print(model_result.summary())\n",
    "\n",
    "# 예측 결과 시각화\n",
    "plt.figure(figsize=(12, 6))\n",
    "plt.plot(add_up_data, label=\"Observed\")\n",
    "plt.plot(forecast, label=\"Forecast\", color=\"orange\")\n",
    "plt.title(\"Mental: Observed vs Forecast (ARIMA)\")\n",
    "plt.xlabel(\"Year\")\n",
    "plt.ylabel(\"Mental\")\n",
    "plt.legend()\n",
    "plt.grid()\n",
    "plt.show()"
   ]
  },
  {
   "cell_type": "code",
   "execution_count": null,
   "metadata": {
    "vscode": {
     "languageId": "plaintext"
    }
   },
   "outputs": [],
   "source": [
    "# SEJONG 데이터 추출 및 전처리\n",
    "sejong_data = data[data[\"AREA\"] == \"SEJONG\"].iloc[:, 1:]  # \"AREA\" 제외\n",
    "sejong_data = sejong_data.T  # 전치\n",
    "sejong_data.columns = [\"Mental\"]  # 열 이름 설정\n",
    "\n",
    "# 2012년 이후 데이터 사용\n",
    "sejong_data_cleaned = sejong_data.loc[\"2012\":].dropna()\n",
    "\n",
    "# 데이터 확인\n",
    "sejong_data_cleaned.head()\n"
   ]
  },
  {
   "cell_type": "code",
   "execution_count": null,
   "metadata": {
    "vscode": {
     "languageId": "plaintext"
    }
   },
   "outputs": [],
   "source": [
    "from scipy.optimize import curve_fit\n",
    "\n",
    "# 비선형 함수 정의 (예: 지수 함수)\n",
    "def nonlinear_model(x, a, b, c):\n",
    "    return a * np.exp(b * (x - 2012)) + c\n",
    "\n",
    "# 데이터 준비\n",
    "X_train_nonlinear = pd.to_datetime(sejong_data_cleaned.index).year.values  # Convert index to DatetimeIndex and extract year\n",
    "y_train_nonlinear = sejong_data_cleaned[\"Mental\"].values\n",
    "\n",
    "# 비선형 회귀 모델 학습\n",
    "popt, pcov = curve_fit(nonlinear_model, X_train_nonlinear, y_train_nonlinear, maxfev=10000)\n",
    "\n",
    "# 2007~2011년 데이터 생성 및 예측\n",
    "years_to_predict_nonlinear = np.arange(2007, 2012)\n",
    "predicted_counts_nonlinear = nonlinear_model(years_to_predict_nonlinear, *popt)\n",
    "\n",
    "# 예측 결과 시각화\n",
    "plt.figure(figsize=(12, 6))\n",
    "plt.scatter(X_train_nonlinear, y_train_nonlinear, label=\"Observed (2012-2023)\", color=\"blue\")\n",
    "plt.plot(years_to_predict_nonlinear, predicted_counts_nonlinear, label=\"Predicted (2007-2011, Nonlinear)\", color=\"orange\")\n",
    "plt.title(\"SEJONG Mental: Nonlinear Regression Prediction\")\n",
    "plt.xlabel(\"Year\")\n",
    "plt.ylabel(\"Mental\")\n",
    "plt.legend()\n",
    "plt.grid()\n",
    "plt.show()\n",
    "\n",
    "# 예측 결과 반환\n",
    "predicted_counts_nonlinear"
   ]
  },
  {
   "cell_type": "code",
   "execution_count": null,
   "metadata": {
    "vscode": {
     "languageId": "plaintext"
    }
   },
   "outputs": [],
   "source": []
  },
  {
   "cell_type": "code",
   "execution_count": null,
   "metadata": {
    "vscode": {
     "languageId": "plaintext"
    }
   },
   "outputs": [],
   "source": []
  }
 ],
 "metadata": {
  "language_info": {
   "name": "python"
  }
 },
 "nbformat": 4,
 "nbformat_minor": 2
}
