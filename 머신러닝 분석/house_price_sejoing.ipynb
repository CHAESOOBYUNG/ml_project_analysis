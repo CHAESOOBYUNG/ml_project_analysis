{
 "cells": [
  {
   "cell_type": "code",
   "execution_count": null,
   "metadata": {
    "vscode": {
     "languageId": "plaintext"
    }
   },
   "outputs": [],
   "source": [
    "# 먼저 업로드된 파일을 확인하여 데이터 내용을 살펴보겠습니다.\n",
    "import pandas as pd\n",
    "\n",
    "# 파일 경로\n",
    "file_path = 'csv/집값(평균)_full.csv'\n",
    "\n",
    "# 파일 로드\n",
    "data = pd.read_csv(file_path)\n",
    "data.head()"
   ]
  },
  {
   "cell_type": "code",
   "execution_count": null,
   "metadata": {
    "vscode": {
     "languageId": "plaintext"
    }
   },
   "outputs": [],
   "source": [
    "# 데이터 전처리: ADD_UP 선택 및 전처리\n",
    "add_up_data = data[data[\"AREA\"] == \"ADD_UP\"].iloc[:, 1:]  # \"AREA\" 제외\n",
    "add_up_data = add_up_data.T  # 전치\n",
    "add_up_data.columns = [\"House_Price\"]  # 열 이름 설정\n",
    "add_up_data.index = pd.to_datetime(add_up_data.index, format='%Y')  # 연도를 날짜로 변환\n",
    "# Convert 'House_Price' column to string type before applying .str.replace\n",
    "add_up_data[\"House_Price\"] = add_up_data[\"House_Price\"].astype(str).str.replace(\",\", \"\").astype(float)  # 쉼표 제거 및 숫자로 변환\n",
    "\n",
    "# 데이터 확인\n",
    "add_up_data.head()"
   ]
  },
  {
   "cell_type": "code",
   "execution_count": null,
   "metadata": {
    "vscode": {
     "languageId": "plaintext"
    }
   },
   "outputs": [],
   "source": [
    "from statsmodels.tsa.arima.model import ARIMA\n",
    "import matplotlib.pyplot as plt\n",
    "\n",
    "# ARIMA 모델 학습 및 예측\n",
    "def arima_forecast(data, order, forecast_steps):\n",
    "    model = ARIMA(data, order=order)\n",
    "    result = model.fit()\n",
    "    forecast = result.get_forecast(steps=forecast_steps)\n",
    "    forecast_index = pd.date_range(start=data.index[-1] + pd.DateOffset(years=1), periods=forecast_steps, freq='Y')\n",
    "    forecast_series = pd.Series(forecast.predicted_mean.values, index=forecast_index)\n",
    "    return forecast_series, result\n",
    "\n",
    "# ARIMA 모델 설정 (p=1, d=1, q=1)\n",
    "order = (1, 1, 1)\n",
    "forecast_steps = 50  # 향후 50년 예측\n",
    "\n",
    "# 모델 학습 및 예측\n",
    "forecast, model_result = arima_forecast(add_up_data[\"House_Price\"], order, forecast_steps)\n",
    "\n",
    "# 결과 요약\n",
    "print(model_result.summary())\n",
    "\n",
    "# 예측 결과 시각화\n",
    "plt.figure(figsize=(12, 6))\n",
    "plt.plot(add_up_data, label=\"Observed\")\n",
    "plt.plot(forecast, label=\"Forecast\", color=\"orange\")\n",
    "plt.title(\"House_Price: Observed vs Forecast (ARIMA)\")\n",
    "plt.xlabel(\"Year\")\n",
    "plt.ylabel(\"House_Price\")\n",
    "plt.legend()\n",
    "plt.grid()\n",
    "plt.show()"
   ]
  },
  {
   "cell_type": "code",
   "execution_count": null,
   "metadata": {
    "vscode": {
     "languageId": "plaintext"
    }
   },
   "outputs": [],
   "source": [
    "# SEJONG 데이터 추출 및 전처리\n",
    "sejong_data = data[data[\"AREA\"] == \"SEJONG\"].iloc[:, 1:]  # \"AREA\" 제외\n",
    "sejong_data = sejong_data.T  # 전치\n",
    "sejong_data.columns = [\"House_Price\"]  # 열 이름 설정\n",
    "sejong_data.index = pd.to_datetime(sejong_data.index, format='%Y')  # 연도를 날짜로 변환\n",
    "# Check if 'House_Price' column is of object (string) type before applying .str.replace\n",
    "if sejong_data[\"House_Price\"].dtype == object:\n",
    "    sejong_data[\"House_Price\"] = pd.to_numeric(sejong_data[\"House_Price\"].str.replace(\",\", \"\"), errors='coerce')  # 쉼표 제거 및 숫자로 변환\n",
    "else:\n",
    "    sejong_data[\"House_Price\"] = pd.to_numeric(sejong_data[\"House_Price\"], errors='coerce')  # If already numeric, just convert\n",
    "\n",
    "# 2012년 이후 데이터 사용\n",
    "sejong_data_cleaned = sejong_data.loc[\"2012\":].dropna()\n",
    "\n",
    "# 데이터 확인\n",
    "sejong_data_cleaned.head()"
   ]
  },
  {
   "cell_type": "code",
   "execution_count": null,
   "metadata": {
    "vscode": {
     "languageId": "plaintext"
    }
   },
   "outputs": [],
   "source": [
    "# ARIMA 모델 학습 및 과거 데이터 예측\n",
    "forecast_steps = 5  # 과거 5년 (2007~2011년) 예측\n",
    "order = (1, 1, 1)\n",
    "\n",
    "# 과거 예측을 위한 ARIMA 학습\n",
    "forecast_backward, model_result = arima_forecast(sejong_data_cleaned[\"House_Price\"], order, forecast_steps)\n",
    "\n",
    "# 과거 예측 연도 설정\n",
    "forecast_index = pd.date_range(start=\"2007-01-01\", periods=forecast_steps, freq='Y')\n",
    "forecast_backward.index = forecast_index\n",
    "\n",
    "# 예측 결과 확인\n",
    "forecast_backward"
   ]
  },
  {
   "cell_type": "code",
   "execution_count": null,
   "metadata": {
    "vscode": {
     "languageId": "plaintext"
    }
   },
   "outputs": [],
   "source": [
    "# SEJONG 지역의 집값 시각화\n",
    "plt.figure(figsize=(12, 6))\n",
    "plt.plot(sejong_data_cleaned, label=\"Observed (2012-2023)\", marker=\"o\")\n",
    "plt.plot(forecast_backward, label=\"Forecasted (2007-2011)\", marker=\"x\", color=\"orange\")\n",
    "plt.title(\"SEJONG House Price: Observed vs Forecasted\")\n",
    "plt.xlabel(\"Year\")\n",
    "plt.ylabel(\"House_Price\")\n",
    "plt.legend()\n",
    "plt.grid()\n",
    "plt.show()"
   ]
  },
  {
   "cell_type": "code",
   "execution_count": null,
   "metadata": {
    "vscode": {
     "languageId": "plaintext"
    }
   },
   "outputs": [],
   "source": [
    "from sklearn.preprocessing import PolynomialFeatures\n",
    "from sklearn.pipeline import make_pipeline\n",
    "from sklearn.linear_model import LinearRegression # Import LinearRegression\n",
    "\n",
    "# Assuming sejong_data_cleaned contains the observed data\n",
    "X_train = sejong_data_cleaned.index.year.values.reshape(-1, 1)  # Extract years as features\n",
    "y_train = sejong_data_cleaned[\"House_Price\"].values  # Extract marriage counts as target\n",
    "\n",
    "# Years to predict (2007-2011)\n",
    "years_to_predict = [[year] for year in range(2007, 2012)]\n",
    "\n",
    "# 다항 회귀 모델 학습 (2차 다항식)\n",
    "degree = 2\n",
    "poly_model = make_pipeline(PolynomialFeatures(degree), LinearRegression())\n",
    "poly_model.fit(X_train, y_train)\n",
    "\n",
    "# 2007~2011년 데이터 생성 및 예측\n",
    "predicted_counts_poly = poly_model.predict(years_to_predict)\n",
    "\n",
    "# 예측 결과 시각화\n",
    "plt.figure(figsize=(12, 6))\n",
    "plt.scatter(X_train, y_train, label=\"Observed (2012-2023)\", color=\"blue\")\n",
    "plt.plot(years_to_predict, predicted_counts_poly, label=f\"Predicted (2007-2011, Degree {degree})\", color=\"orange\")\n",
    "plt.title(\"SEJONG House Price: Polynomial Regression Prediction (Degree 3)\")\n",
    "plt.xlabel(\"Year\")\n",
    "plt.ylabel(\"House Price\")\n",
    "plt.legend()\n",
    "plt.grid()\n",
    "plt.show()\n",
    "\n",
    "# 예측 결과 반환\n",
    "predicted_counts_poly"
   ]
  },
  {
   "cell_type": "code",
   "execution_count": null,
   "metadata": {
    "vscode": {
     "languageId": "plaintext"
    }
   },
   "outputs": [],
   "source": [
    "from scipy.optimize import curve_fit\n",
    "import numpy as np\n",
    "\n",
    "# 비선형 함수 정의 (예: 지수 함수)\n",
    "def nonlinear_model(x, a, b, c):\n",
    "    return a * np.exp(b * (x - 2012)) + c\n",
    "\n",
    "# 데이터 준비\n",
    "X_train_nonlinear = sejong_data_cleaned.index.year.values  # Extract year from the index\n",
    "y_train_nonlinear = sejong_data_cleaned[\"House_Price\"].values\n",
    "\n",
    "# 비선형 회귀 모델 학습\n",
    "popt, pcov = curve_fit(nonlinear_model, X_train_nonlinear, y_train_nonlinear, maxfev=10000)\n",
    "\n",
    "# 2007~2011년 데이터 생성 및 예측\n",
    "years_to_predict_nonlinear = np.arange(2007, 2012)\n",
    "predicted_counts_nonlinear = nonlinear_model(years_to_predict_nonlinear, *popt)\n",
    "\n",
    "# 예측 결과 시각화\n",
    "plt.figure(figsize=(12, 6))\n",
    "plt.scatter(X_train_nonlinear, y_train_nonlinear, label=\"Observed (2012-2023)\", color=\"blue\")\n",
    "plt.plot(years_to_predict_nonlinear, predicted_counts_nonlinear, label=\"Predicted (2007-2011, Nonlinear)\", color=\"orange\")\n",
    "plt.title(\"SEJONG House Price: Nonlinear Regression Prediction\")\n",
    "plt.xlabel(\"Year\")\n",
    "plt.ylabel(\"House_Price\")\n",
    "plt.legend()\n",
    "plt.grid()\n",
    "plt.show()\n",
    "\n",
    "# 예측 결과 반환\n",
    "predicted_counts_nonlinear"
   ]
  },
  {
   "cell_type": "code",
   "execution_count": null,
   "metadata": {
    "vscode": {
     "languageId": "plaintext"
    }
   },
   "outputs": [],
   "source": []
  }
 ],
 "metadata": {
  "language_info": {
   "name": "python"
  }
 },
 "nbformat": 4,
 "nbformat_minor": 2
}
