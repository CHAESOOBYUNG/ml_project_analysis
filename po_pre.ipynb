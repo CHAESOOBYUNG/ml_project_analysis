{
 "cells": [
  {
   "cell_type": "code",
   "execution_count": null,
   "metadata": {
    "vscode": {
     "languageId": "plaintext"
    }
   },
   "outputs": [],
   "source": [
    "import pandas as pd\n",
    "\n",
    "# Load the uploaded files\n",
    "population_data_path = '지역별 인구수_full.csv'\n",
    "birth_data_path = '예측된_신생아수_2024_2075.csv'\n",
    "death_data_path = '예측된_사망자수_2024_2075.csv'\n",
    "\n",
    "population_df = pd.read_csv(population_data_path)\n",
    "birth_df = pd.read_csv(birth_data_path)\n",
    "death_df = pd.read_csv(death_data_path)\n",
    "\n",
    "# Display the data to understand its structure\n",
    "population_df.head(), birth_df.head(), death_df.head()"
   ]
  },
  {
   "cell_type": "code",
   "execution_count": null,
   "metadata": {
    "vscode": {
     "languageId": "plaintext"
    }
   },
   "outputs": [],
   "source": [
    "# Prepare the population data for calculation\n",
    "population_df.set_index('AREA', inplace=True)\n",
    "birth_df.set_index('City', inplace=True)\n",
    "death_df.set_index('City', inplace=True)\n",
    "\n",
    "# Remove the total population row for simplicity in calculation\n",
    "population_df = population_df.drop('ADD_UP')\n",
    "\n",
    "# Initialize the result dataframe\n",
    "years = [str(year) for year in range(2024, 2076)]\n",
    "population_projection = population_df.copy()\n",
    "\n",
    "# Calculate population projections for each year\n",
    "for year in years:\n",
    "    prev_year = str(int(year) - 1)\n",
    "    population_projection[year] = (\n",
    "        population_projection[prev_year]\n",
    "        + birth_df[year]\n",
    "        - death_df[year]\n",
    "    )\n",
    "\n",
    "# Reset index to make the data more readable\n",
    "population_projection.reset_index(inplace=True)\n"
   ]
  },
  {
   "cell_type": "code",
   "execution_count": null,
   "metadata": {
    "vscode": {
     "languageId": "plaintext"
    }
   },
   "outputs": [],
   "source": [
    "# Save the population projection to a CSV file\n",
    "output_path = 'Population_Projection_2024_2075.csv'\n",
    "population_projection.to_csv(output_path, index=False)\n",
    "\n",
    "output_path\n"
   ]
  }
 ],
 "metadata": {
  "language_info": {
   "name": "python"
  }
 },
 "nbformat": 4,
 "nbformat_minor": 2
}
