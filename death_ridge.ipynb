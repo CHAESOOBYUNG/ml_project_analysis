{
 "cells": [
  {
   "cell_type": "code",
   "execution_count": null,
   "metadata": {
    "vscode": {
     "languageId": "plaintext"
    }
   },
   "outputs": [],
   "source": [
    "import pandas as pd\n",
    "from sklearn.preprocessing import StandardScaler\n",
    "\n",
    "# Load the CSV files\n",
    "death_data_path = '사망자수_ADD_full.csv'\n",
    "elderly_data_path = '노인 인구_full.csv'\n",
    "cancer_data_path = '암 등록환자현황_full.csv'\n",
    "\n",
    "death_data = pd.read_csv(death_data_path)\n",
    "elderly_data = pd.read_csv(elderly_data_path)\n",
    "cancer_data = pd.read_csv(cancer_data_path)\n",
    "\n",
    "# Preview the data to understand the structure\n",
    "death_data.head(), elderly_data.head(), cancer_data.head()"
   ]
  },
  {
   "cell_type": "code",
   "execution_count": null,
   "metadata": {
    "vscode": {
     "languageId": "plaintext"
    }
   },
   "outputs": [],
   "source": [
    "# Check the data types of the columns to identify issues\n",
    "elderly_data.dtypes, cancer_data.dtypes"
   ]
  },
  {
   "cell_type": "code",
   "execution_count": null,
   "metadata": {
    "vscode": {
     "languageId": "plaintext"
    }
   },
   "outputs": [],
   "source": [
    "# Remove commas and convert to numeric for cancer data\n",
    "cancer_data.iloc[:, 1:] = cancer_data.iloc[:, 1:].apply(lambda x: x.str.replace(',', '').astype(float))\n",
    "\n",
    "# Scale the data\n",
    "scaler = StandardScaler()\n",
    "\n",
    "elderly_scaled = elderly_data.copy()\n",
    "elderly_scaled.iloc[:, 1:] = scaler.fit_transform(elderly_scaled.iloc[:, 1:])\n",
    "\n",
    "cancer_scaled = cancer_data.copy()\n",
    "cancer_scaled.iloc[:, 1:] = scaler.fit_transform(cancer_scaled.iloc[:, 1:])\n"
   ]
  },
  {
   "cell_type": "code",
   "execution_count": null,
   "metadata": {
    "vscode": {
     "languageId": "plaintext"
    }
   },
   "outputs": [],
   "source": [
    "# Compare AREA columns to find mismatches\n",
    "independent_areas = elderly_scaled[\"AREA\"]\n",
    "dependent_areas = death_data[\"AREA\"]\n",
    "\n",
    "missing_in_dependent = set(independent_areas) - set(dependent_areas)\n",
    "missing_in_independent = set(dependent_areas) - set(independent_areas)\n",
    "\n",
    "missing_in_dependent, missing_in_independent\n"
   ]
  },
  {
   "cell_type": "code",
   "execution_count": null,
   "metadata": {
    "vscode": {
     "languageId": "plaintext"
    }
   },
   "outputs": [],
   "source": [
    "from sklearn.linear_model import Ridge\n",
    "from sklearn.model_selection import train_test_split\n",
    "from sklearn.metrics import mean_squared_error\n",
    "\n",
    "# Prepare the data for the Ridge regression model\n",
    "# Extract independent variables (scaled elderly and cancer data) and dependent variable (death data)\n",
    "independent_data = pd.concat([elderly_scaled.iloc[:, 1:], cancer_scaled.iloc[:, 1:]], axis=1)\n",
    "dependent_data = death_data.iloc[:, 1:].apply(lambda x: x.astype(str).str.replace(',', '').astype(float))"
   ]
  },
  {
   "cell_type": "code",
   "execution_count": null,
   "metadata": {
    "vscode": {
     "languageId": "plaintext"
    }
   },
   "outputs": [],
   "source": [
    "# Check the shapes of independent and dependent datasets\n",
    "independent_data_shape = independent_data.shape\n",
    "dependent_data_shape = dependent_data.shape\n",
    "\n",
    "independent_data_shape, dependent_data_shape"
   ]
  },
  {
   "cell_type": "code",
   "execution_count": null,
   "metadata": {
    "vscode": {
     "languageId": "plaintext"
    }
   },
   "outputs": [],
   "source": [
    "# Check the indexes of both datasets to find mismatches\n",
    "independent_data.index, dependent_data.index"
   ]
  },
  {
   "cell_type": "code",
   "execution_count": null,
   "metadata": {
    "vscode": {
     "languageId": "plaintext"
    }
   },
   "outputs": [],
   "source": [
    "# Compare AREA columns to find mismatches\n",
    "independent_areas = elderly_scaled[\"AREA\"]\n",
    "dependent_areas = death_data[\"AREA\"]\n",
    "\n",
    "missing_in_dependent = set(independent_areas) - set(dependent_areas)\n",
    "missing_in_independent = set(dependent_areas) - set(independent_areas)\n",
    "\n",
    "missing_in_dependent, missing_in_independent"
   ]
  },
  {
   "cell_type": "code",
   "execution_count": null,
   "metadata": {
    "vscode": {
     "languageId": "plaintext"
    }
   },
   "outputs": [],
   "source": [
    "# Display the row counts for each dataset to ensure they align correctly\n",
    "independent_data.reset_index(drop=True, inplace=True)\n",
    "dependent_data.reset_index(drop=True, inplace=True)\n",
    "\n",
    "# Check alignment\n",
    "aligned_check = pd.concat([independent_data, dependent_data], axis=1, join=\"inner\")\n",
    "\n",
    "aligned_check.shape, independent_data.shape, dependent_data.shape"
   ]
  },
  {
   "cell_type": "code",
   "execution_count": null,
   "metadata": {
    "vscode": {
     "languageId": "plaintext"
    }
   },
   "outputs": [],
   "source": [
    "# Align the datasets by 'AREA'\n",
    "aligned_independent_data = independent_data[independent_data.index.isin(dependent_data.index)].reset_index(drop=True)\n",
    "\n",
    "# Verify the new shapes of the datasets\n",
    "aligned_independent_data.shape, dependent_data.shape\n"
   ]
  },
  {
   "cell_type": "code",
   "execution_count": null,
   "metadata": {
    "vscode": {
     "languageId": "plaintext"
    }
   },
   "outputs": [],
   "source": [
    "# Convert dependent data to numeric by removing commas and converting to float\n",
    "dependent_data = death_data.iloc[:, 1:].applymap(lambda x: float(str(x).replace(',', '')))\n",
    "\n",
    "# Retry splitting and training the Ridge regression model\n",
    "X_train, X_test, y_train, y_test = train_test_split(\n",
    "    aligned_independent_data, dependent_data, test_size=0.2, random_state=42\n",
    ")\n",
    "\n",
    "ridge_model = Ridge(alpha=1.0)\n",
    "ridge_model.fit(X_train, y_train)\n",
    "\n",
    "y_pred = ridge_model.predict(X_test)\n",
    "\n",
    "# Evaluate the model\n",
    "mse = mean_squared_error(y_test, y_pred)\n",
    "\n",
    "mse"
   ]
  },
  {
   "cell_type": "code",
   "execution_count": null,
   "metadata": {
    "vscode": {
     "languageId": "plaintext"
    }
   },
   "outputs": [],
   "source": [
    "# Calculate the R^2 score (accuracy) for the Ridge regression model\n",
    "r2_score = ridge_model.score(X_test, y_test)\n",
    "\n",
    "r2_score"
   ]
  },
  {
   "cell_type": "code",
   "execution_count": null,
   "metadata": {
    "vscode": {
     "languageId": "plaintext"
    }
   },
   "outputs": [],
   "source": [
    "# Predict the death population for 2007 to 2023 using the full independent dataset\n",
    "predicted_death_population = ridge_model.predict(aligned_independent_data)\n",
    "\n",
    "# Convert predictions to a DataFrame with appropriate column names\n",
    "predicted_death_df = pd.DataFrame(\n",
    "    predicted_death_population,\n",
    "    columns=death_data.columns[1:],\n",
    "    index=death_data[\"AREA\"]\n",
    ")\n",
    "\n",
    "print(predicted_death_df)"
   ]
  },
  {
   "cell_type": "code",
   "execution_count": null,
   "metadata": {
    "vscode": {
     "languageId": "plaintext"
    }
   },
   "outputs": [],
   "source": [
    "death_data"
   ]
  },
  {
   "cell_type": "code",
   "execution_count": null,
   "metadata": {
    "vscode": {
     "languageId": "plaintext"
    }
   },
   "outputs": [],
   "source": []
  }
 ],
 "metadata": {
  "language_info": {
   "name": "python"
  }
 },
 "nbformat": 4,
 "nbformat_minor": 2
}
