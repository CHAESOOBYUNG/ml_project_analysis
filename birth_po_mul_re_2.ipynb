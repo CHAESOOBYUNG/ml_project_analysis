{
 "cells": [
  {
   "cell_type": "code",
   "execution_count": null,
   "metadata": {
    "vscode": {
     "languageId": "plaintext"
    }
   },
   "outputs": [],
   "source": [
    "import pandas as pd\n",
    "from sklearn.preprocessing import StandardScaler\n",
    "\n",
    "# Load the uploaded CSV files\n",
    "birth_data = pd.read_csv('시군구_출생아수_full.csv')\n",
    "fertile_women_data = pd.read_csv('가임 여성수_full_2.csv')\n",
    "education_cost_data = pd.read_csv('사교육비 총액_full.csv')\n",
    "income_data = pd.read_csv('feat_sal.csv')\n",
    "housing_price_data = pd.read_csv('집값(평균)_full.csv')\n",
    "marriage_data = pd.read_csv('혼인건수_full.csv')\n",
    "\n",
    "# Displaying the heads of the datasets to understand their structures\n",
    "birth_data.head(), fertile_women_data.head(), education_cost_data.head(), income_data.head(), housing_price_data.head(), marriage_data.head()\n"
   ]
  },
  {
   "cell_type": "code",
   "execution_count": null,
   "metadata": {
    "vscode": {
     "languageId": "plaintext"
    }
   },
   "outputs": [],
   "source": [
    "# Checking unique values in AREA and Year for each dataset\n",
    "birth_areas = set(birth_long[\"AREA\"])\n",
    "fertile_women_areas = set(fertile_women_long[\"AREA\"])\n",
    "education_cost_areas = set(education_cost_long[\"AREA\"])\n",
    "income_areas = set(income_long[\"AREA\"])\n",
    "housing_price_areas = set(housing_price_long[\"AREA\"])\n",
    "marriage_areas = set(marriage_long[\"AREA\"])\n",
    "\n",
    "# Areas mismatch check\n",
    "area_mismatches = {\n",
    "    \"Birth vs Fertile Women\": birth_areas - fertile_women_areas,\n",
    "    \"Fertile Women vs Education Cost\": fertile_women_areas - education_cost_areas,\n",
    "    \"Education Cost vs Income\": education_cost_areas - income_areas,\n",
    "    \"Income vs Housing Price\": income_areas - housing_price_areas,\n",
    "    \"Housing Price vs Marriage\": housing_price_areas - marriage_areas,\n",
    "}\n",
    "\n",
    "# Checking unique Year values in each dataset\n",
    "birth_years = set(birth_long[\"Year\"])\n",
    "fertile_women_years = set(fertile_women_long[\"Year\"])\n",
    "education_cost_years = set(education_cost_long[\"Year\"])\n",
    "income_years = set(income_long[\"Year\"])\n",
    "housing_price_years = set(housing_price_long[\"Year\"])\n",
    "marriage_years = set(marriage_long[\"Year\"])\n",
    "\n",
    "# Year mismatch check\n",
    "year_mismatches = {\n",
    "    \"Birth vs Fertile Women\": birth_years - fertile_women_years,\n",
    "    \"Fertile Women vs Education Cost\": fertile_women_years - education_cost_years,\n",
    "    \"Education Cost vs Income\": education_cost_years - income_years,\n",
    "    \"Income vs Housing Price\": income_years - housing_price_years,\n",
    "    \"Housing Price vs Marriage\": housing_price_years - marriage_years,\n",
    "}\n",
    "\n",
    "area_mismatches, year_mismatches\n"
   ]
  },
  {
   "cell_type": "code",
   "execution_count": null,
   "metadata": {
    "vscode": {
     "languageId": "plaintext"
    }
   },
   "outputs": [],
   "source": [
    "# Ensuring Year is uniformly integer in all datasets\n",
    "def ensure_year_as_int(df, year_column):\n",
    "    \"\"\"\n",
    "    Convert the Year column to integer type if not already.\n",
    "    \"\"\"\n",
    "    df[year_column] = df[year_column].astype(int)\n",
    "    return df\n",
    "\n",
    "# Apply to all datasets\n",
    "birth_long = ensure_year_as_int(birth_long, \"Year\")\n",
    "fertile_women_long = ensure_year_as_int(fertile_women_long, \"Year\")\n",
    "education_cost_long = ensure_year_as_int(education_cost_long, \"Year\")\n",
    "income_long = ensure_year_as_int(income_long, \"Year\")\n",
    "housing_price_long = ensure_year_as_int(housing_price_long, \"Year\")\n",
    "marriage_long = ensure_year_as_int(marriage_long, \"Year\")\n",
    "\n",
    "# Reattempt merging datasets\n",
    "merged_data = birth_long.merge(fertile_women_long, on=[\"AREA\", \"Year\"], how=\"inner\")\n",
    "merged_data = merged_data.merge(education_cost_long, on=[\"AREA\", \"Year\"], how=\"inner\")\n",
    "merged_data = merged_data.merge(income_long, on=[\"AREA\", \"Year\"], how=\"inner\")\n",
    "merged_data = merged_data.merge(housing_price_long, on=[\"AREA\", \"Year\"], how=\"inner\")\n",
    "merged_data = merged_data.merge(marriage_long, on=[\"AREA\", \"Year\"], how=\"inner\")\n",
    "\n",
    "# Scaling the data\n",
    "scaled_features = scaler.fit_transform(merged_data.iloc[:, 2:])\n",
    "\n",
    "# Create a scaled dataframe\n",
    "scaled_data = pd.DataFrame(scaled_features, columns=merged_data.columns[2:])\n",
    "scaled_data.insert(0, \"AREA\", merged_data[\"AREA\"])\n",
    "scaled_data.insert(1, \"Year\", merged_data[\"Year\"])\n"
   ]
  },
  {
   "cell_type": "code",
   "execution_count": null,
   "metadata": {
    "vscode": {
     "languageId": "plaintext"
    }
   },
   "outputs": [],
   "source": [
    "from sklearn.model_selection import train_test_split\n",
    "from sklearn.linear_model import LinearRegression\n",
    "from sklearn.metrics import mean_squared_error, r2_score\n",
    "\n",
    "# Extracting features (independent variables) and target (dependent variable)\n",
    "X = scaled_data.drop(columns=[\"AREA\", \"Year\", \"Births\"])  # Independent variables\n",
    "y = scaled_data[\"Births\"]  # Dependent variable\n",
    "\n",
    "# Splitting the data into training and testing sets\n",
    "X_train, X_test, y_train, y_test = train_test_split(X, y, test_size=0.2, random_state=42)\n",
    "\n",
    "# Creating and fitting the linear regression model\n",
    "model = LinearRegression()\n",
    "model.fit(X_train, y_train)\n",
    "\n",
    "# Making predictions on the test set\n",
    "y_pred = model.predict(X_test)\n",
    "\n",
    "# Evaluating the model\n",
    "mse = mean_squared_error(y_test, y_pred)\n",
    "r2 = r2_score(y_test, y_pred)\n",
    "\n",
    "# Display results\n",
    "mse, r2\n"
   ]
  },
  {
   "cell_type": "code",
   "execution_count": null,
   "metadata": {
    "vscode": {
     "languageId": "plaintext"
    }
   },
   "outputs": [],
   "source": [
    "import matplotlib.pyplot as plt\n",
    "\n",
    "# Plotting true vs predicted values\n",
    "plt.figure(figsize=(8, 6))\n",
    "plt.scatter(y_test, y_pred, alpha=0.7, edgecolors='k')\n",
    "plt.plot([y_test.min(), y_test.max()], [y_test.min(), y_test.max()], color='red', linestyle='--', linewidth=2)\n",
    "plt.title(\"True vs Predicted Births\")\n",
    "plt.xlabel(\"True Births\")\n",
    "plt.ylabel(\"Predicted Births\")\n",
    "plt.grid(alpha=0.5)\n",
    "plt.show()"
   ]
  },
  {
   "cell_type": "code",
   "execution_count": null,
   "metadata": {
    "vscode": {
     "languageId": "plaintext"
    }
   },
   "outputs": [],
   "source": [
    "# Assuming 'tools' is supposed to be 'IPython.display'\n",
    "from IPython.display import display\n",
    "\n",
    "# ... your existing code ...\n",
    "\n",
    "# Predicting births for the years 2007-2023 using the existing scaled data\n",
    "predicted_births = model.predict(X)\n",
    "\n",
    "# Adding the predictions to the dataframe\n",
    "scaled_data_with_predictions = scaled_data.copy()\n",
    "scaled_data_with_predictions[\"Predicted_Births\"] = predicted_births\n",
    "\n",
    "# Instead of tools.display_dataframe_to_user, use:\n",
    "display(scaled_data_with_predictions)"
   ]
  },
  {
   "cell_type": "code",
   "execution_count": null,
   "metadata": {
    "vscode": {
     "languageId": "plaintext"
    }
   },
   "outputs": [],
   "source": []
  },
  {
   "cell_type": "code",
   "execution_count": null,
   "metadata": {
    "vscode": {
     "languageId": "plaintext"
    }
   },
   "outputs": [],
   "source": []
  }
 ],
 "metadata": {
  "language_info": {
   "name": "python"
  }
 },
 "nbformat": 4,
 "nbformat_minor": 2
}
