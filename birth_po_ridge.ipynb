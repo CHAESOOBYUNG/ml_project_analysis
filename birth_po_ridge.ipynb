{
 "cells": [
  {
   "cell_type": "code",
   "execution_count": null,
   "metadata": {
    "vscode": {
     "languageId": "plaintext"
    }
   },
   "outputs": [],
   "source": [
    "import pandas as pd\n",
    "from sklearn.preprocessing import StandardScaler"
   ]
  },
  {
   "cell_type": "code",
   "execution_count": null,
   "metadata": {
    "vscode": {
     "languageId": "plaintext"
    }
   },
   "outputs": [],
   "source": [
    "data_preview = {name: df.head() for name, df in dataframes.items()}\n",
    "data_preview"
   ]
  },
  {
   "cell_type": "code",
   "execution_count": null,
   "metadata": {
    "vscode": {
     "languageId": "plaintext"
    }
   },
   "outputs": [],
   "source": [
    "# Preprocess each dataframe to handle non-numeric data and format inconsistencies\n",
    "processed_dataframes = {}\n",
    "\n",
    "for name, df in dataframes.items():\n",
    "    # Remove commas and convert columns to numeric where applicable\n",
    "    for col in df.columns[1:]:  # Skip the AREA column\n",
    "        df[col] = df[col].replace(',', '', regex=True).apply(pd.to_numeric, errors='coerce')\n",
    "\n",
    "    # Drop non-numeric columns\n",
    "    numeric_df = df.select_dtypes(include=['number'])\n",
    "\n",
    "    processed_dataframes[name] = numeric_df\n",
    "\n",
    "# Apply scaling to the processed numeric data\n",
    "scaled_dataframes = {\n",
    "    name: pd.DataFrame(scaler.fit_transform(df), columns=df.columns)\n",
    "    for name, df in processed_dataframes.items()\n",
    "}\n",
    "\n",
    "# Save and provide the scaled data for review\n",
    "for name, scaled_df in scaled_dataframes.items():\n",
    "    scaled_df.to_csv(f\"{name}_scaled.csv\", index=False)\n",
    "\n",
    "scaled_dataframes\n"
   ]
  },
  {
   "cell_type": "code",
   "execution_count": null,
   "metadata": {
    "vscode": {
     "languageId": "plaintext"
    }
   },
   "outputs": [],
   "source": [
    "from sklearn.impute import SimpleImputer\n",
    "\n",
    "# Impute missing values with the mean for both features and target\n",
    "imputer = SimpleImputer(strategy=\"mean\")\n",
    "\n",
    "X_imputed = pd.DataFrame(imputer.fit_transform(X), columns=X.columns, index=X.index)\n",
    "y_imputed = pd.Series(imputer.fit_transform(y.values.reshape(-1, 1)).flatten(), index=y.index)\n",
    "\n",
    "# Split the dataset into training and testing sets again\n",
    "X_train, X_test, y_train, y_test = train_test_split(X_imputed, y_imputed, test_size=0.2, random_state=42)\n",
    "\n",
    "# Train the Ridge regression model\n",
    "ridge_model = Ridge(alpha=1.0)\n",
    "ridge_model.fit(X_train, y_train)\n",
    "\n",
    "# Predict on the test set\n",
    "y_pred = ridge_model.predict(X_test)\n",
    "\n",
    "# Evaluate the model\n",
    "mse = mean_squared_error(y_test, y_pred)\n",
    "\n",
    "ridge_model, mse"
   ]
  },
  {
   "cell_type": "code",
   "execution_count": null,
   "metadata": {
    "vscode": {
     "languageId": "plaintext"
    }
   },
   "outputs": [],
   "source": [
    "# Calculate the R^2 score (accuracy metric for regression models)\n",
    "r2_score = ridge_model.score(X_test, y_test)\n",
    "r2_score\n"
   ]
  },
  {
   "cell_type": "code",
   "execution_count": null,
   "metadata": {
    "vscode": {
     "languageId": "plaintext"
    }
   },
   "outputs": [],
   "source": [
    "# 실제값\n",
    "# Combine the predictions with the corresponding years and areas for better understanding\n",
    "results = target_data.iloc[:, :].copy()  # Include the 'AREA' and year information\n",
    "\n",
    "print(results)"
   ]
  },
  {
   "cell_type": "code",
   "execution_count": null,
   "metadata": {
    "vscode": {
     "languageId": "plaintext"
    }
   },
   "outputs": [],
   "source": [
    "# 예측값\n",
    "# Reshape the data for year-wise predictions\n",
    "# Ensure the target data matches the structure for year-wise prediction\n",
    "X_yearly = X_imputed.copy()\n",
    "y_yearly = target_numeric.copy()\n",
    "\n",
    "# Re-train the model to focus on year-wise relationships\n",
    "ridge_model_yearly = Ridge(alpha=1.0)\n",
    "ridge_model_yearly.fit(X_yearly, y_yearly)\n",
    "\n",
    "# Predict birth population for each year (2007 to 2023)\n",
    "predicted_births_yearly = ridge_model_yearly.predict(X_yearly)\n",
    "\n",
    "# Combine predictions with the corresponding areas and years\n",
    "results_yearly = target_data.iloc[:, :1].copy()  # Start with the 'AREA' column\n",
    "results_yearly[y_yearly.columns] = predicted_births_yearly\n",
    "\n",
    "print(results_yearly)"
   ]
  },
  {
   "cell_type": "code",
   "execution_count": null,
   "metadata": {
    "vscode": {
     "languageId": "plaintext"
    }
   },
   "outputs": [],
   "source": []
  },
  {
   "cell_type": "code",
   "execution_count": null,
   "metadata": {
    "vscode": {
     "languageId": "plaintext"
    }
   },
   "outputs": [],
   "source": []
  },
  {
   "cell_type": "code",
   "execution_count": null,
   "metadata": {
    "vscode": {
     "languageId": "plaintext"
    }
   },
   "outputs": [],
   "source": []
  }
 ],
 "metadata": {
  "language_info": {
   "name": "python"
  }
 },
 "nbformat": 4,
 "nbformat_minor": 2
}
