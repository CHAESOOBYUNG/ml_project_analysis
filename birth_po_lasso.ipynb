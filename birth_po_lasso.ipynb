{
 "cells": [
  {
   "cell_type": "code",
   "execution_count": null,
   "metadata": {
    "vscode": {
     "languageId": "plaintext"
    }
   },
   "outputs": [],
   "source": [
    "import pandas as pd\n",
    "from sklearn.preprocessing import StandardScaler"
   ]
  },
  {
   "cell_type": "code",
   "execution_count": null,
   "metadata": {
    "vscode": {
     "languageId": "plaintext"
    }
   },
   "outputs": [],
   "source": [
    "import pandas as pd\n",
    "from sklearn.preprocessing import StandardScaler\n",
    "\n",
    "# 파일 경로\n",
    "file_paths = {\n",
    "    \"가임 여성수\": \"가임 여성수_full.csv\",\n",
    "    \"사교육비 총액\": \"사교육비 총액_full.csv\",\n",
    "    \"집값(평균)\": \"집값(평균)_full.csv\",\n",
    "    \"혼인건수\": \"혼인건수_full.csv\"\n",
    "}\n",
    "\n",
    "# 데이터 불러오기\n",
    "dataframes = {name: pd.read_csv(path) for name, path in file_paths.items()}\n",
    "\n",
    "# 스케일링 작업\n",
    "scaler = StandardScaler()\n",
    "scaled_dataframes = {}"
   ]
  },
  {
   "cell_type": "code",
   "execution_count": null,
   "metadata": {
    "vscode": {
     "languageId": "plaintext"
    }
   },
   "outputs": [],
   "source": [
    "# 데이터를 정리하여 숫자 형식으로 변환\n",
    "for name, df in dataframes.items():\n",
    "    # 모든 열에 대해 쉼표 제거 및 숫자로 변환 시도\n",
    "    for col in df.columns[1:]:\n",
    "        df[col] = pd.to_numeric(df[col].astype(str).str.replace(',', ''), errors='coerce')\n",
    "    dataframes[name] = df\n",
    "\n",
    "# 다시 스케일링 작업 수행\n",
    "scaled_dataframes = {}\n",
    "for name, df in dataframes.items():\n",
    "    scaled_df = pd.DataFrame(scaler.fit_transform(df.iloc[:, 1:]), columns=df.columns[1:])\n",
    "    scaled_df.insert(0, df.columns[0], df.iloc[:, 0])  # 첫 번째 열(예: 지역) 유지\n",
    "    scaled_dataframes[name] = scaled_df\n",
    "\n",
    "# 스케일링된 데이터 저장 및 확인\n",
    "for name, scaled_df in scaled_dataframes.items():\n",
    "    output_path = f\"{name}_scaled.csv\"\n",
    "    scaled_df.to_csv(output_path, index=False)\n",
    "\n",
    "scaled_dataframes"
   ]
  },
  {
   "cell_type": "code",
   "execution_count": null,
   "metadata": {
    "vscode": {
     "languageId": "plaintext"
    }
   },
   "outputs": [],
   "source": [
    "from sklearn.linear_model import LassoCV\n",
    "from sklearn.model_selection import train_test_split\n",
    "from sklearn.metrics import mean_squared_error\n",
    "import numpy as np\n",
    "\n",
    "# 종속 변수 데이터 로드\n",
    "birth_data = pd.read_csv(\"시군구_출생아수_full.csv\")\n",
    "\n",
    "# 데이터 정리\n",
    "# 독립 변수 및 종속 변수 병합\n",
    "merged_data = birth_data.copy()\n",
    "for name, scaled_df in scaled_dataframes.items():\n",
    "    # suffixes 변경하여 중복 열 이름 방지\n",
    "    merged_data = merged_data.merge(scaled_df, on=scaled_df.columns[0], how=\"inner\", suffixes=('', f'_{name}'))\n",
    "\n",
    "# 독립 변수(X)와 종속 변수(y) 분리\n",
    "X = merged_data.iloc[:, 2:]  # 독립 변수\n",
    "y = merged_data.iloc[:, 1]   # 종속 변수 (출생아 수)\n",
    "\n",
    "# 결측치 제거\n",
    "X = X.dropna()\n",
    "y = y[X.index]\n",
    "\n",
    "# 학습 및 테스트 데이터 분리\n",
    "X_train, X_test, y_train, y_test = train_test_split(X, y, test_size=0.2, random_state=42)\n",
    "\n",
    "# 라쏘 회귀 모델 훈련\n",
    "lasso_model = LassoCV(cv=5, random_state=42)\n",
    "lasso_model.fit(X_train, y_train)\n",
    "\n",
    "# 테스트 데이터 예측\n",
    "y_pred = lasso_model.predict(X_test)\n",
    "\n",
    "# 성능 평가\n",
    "mse = mean_squared_error(y_test, y_pred)\n",
    "selected_features = np.sum(lasso_model.coef_ != 0)  # 선택된 특징 개수\n",
    "\n",
    "{\n",
    "    \"MSE\": mse,\n",
    "    \"Selected Features\": selected_features,\n",
    "    \"Lasso Coefficients\": lasso_model.coef_,\n",
    "    \"Intercept\": lasso_model.intercept_\n",
    "}\n"
   ]
  },
  {
   "cell_type": "code",
   "execution_count": null,
   "metadata": {
    "vscode": {
     "languageId": "plaintext"
    }
   },
   "outputs": [],
   "source": [
    "# 정확도 (R^2 스코어) 계산\n",
    "r2_score = lasso_model.score(X_test, y_test)\n",
    "r2_score"
   ]
  },
  {
   "cell_type": "code",
   "execution_count": null,
   "metadata": {
    "vscode": {
     "languageId": "plaintext"
    }
   },
   "outputs": [],
   "source": []
  }
 ],
 "metadata": {
  "language_info": {
   "name": "python"
  }
 },
 "nbformat": 4,
 "nbformat_minor": 2
}
