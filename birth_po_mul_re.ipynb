{
 "cells": [
  {
   "cell_type": "code",
   "execution_count": null,
   "metadata": {
    "vscode": {
     "languageId": "plaintext"
    }
   },
   "outputs": [],
   "source": [
    "import pandas as pd\n",
    "import matplotlib.pyplot as plt\n",
    "import seaborn as sns\n",
    "\n",
    "# Load the uploaded files\n",
    "birth_data = pd.read_csv('csv/시군구_출생아수_full.csv')\n",
    "fertile_women_data = pd.read_csv('csv/가임 여성수_full_2.csv')\n",
    "education_expenses_data = pd.read_csv('csv/사교육비 총액_full.csv')\n",
    "wage_data = pd.read_csv('csv/임금_full.csv')\n",
    "house_price_data = pd.read_csv('csv/집값(평균)_full.csv')\n",
    "marriage_data = pd.read_csv('csv/혼인건수_full.csv')\n",
    "\n",
    "# Display the first few rows of each dataset to understand their structure\n",
    "birth_data.head(), fertile_women_data.head(), education_expenses_data.head(), wage_data.head(), house_price_data.head(), marriage_data.head()"
   ]
  },
  {
   "cell_type": "code",
   "execution_count": null,
   "metadata": {
    "vscode": {
     "languageId": "plaintext"
    }
   },
   "outputs": [],
   "source": [
    "# Reshape data: Convert wide-format year columns to long format\n",
    "def reshape_data(df, value_name):\n",
    "    return df.melt(id_vars=[\"AREA\"], var_name=\"Year\", value_name=value_name)\n",
    "\n",
    "# Standardize column names for consistency\n",
    "education_expenses_data.columns = education_expenses_data.columns.str.replace(',', '').str.strip()\n",
    "wage_data = wage_data.rename(columns={\"AGE\": \"AREA\"}) # Rename 'AGE' column to 'AREA' in wage_data\n",
    "\n",
    "# Reshape the data again\n",
    "birth_data_long = reshape_data(birth_data, \"Births\")\n",
    "fertile_women_long = reshape_data(fertile_women_data, \"Fertile_Women\")\n",
    "education_expenses_long = reshape_data(education_expenses_data, \"Education_Expenses\")\n",
    "wage_data_long = reshape_data(wage_data, \"Wages\")\n",
    "house_price_long = reshape_data(house_price_data, \"House_Price\")\n",
    "marriage_data_long = reshape_data(marriage_data, \"Marriages\")\n",
    "\n",
    "# Merge all datasets on AREA and Year\n",
    "merged_data = birth_data_long.merge(\n",
    "    fertile_women_long, on=[\"AREA\", \"Year\"]\n",
    ").merge(\n",
    "    education_expenses_long, on=[\"AREA\", \"Year\"]\n",
    ").merge(\n",
    "    wage_data_long, on=[\"AREA\", \"Year\"]\n",
    ").merge(\n",
    "    house_price_long, on=[\"AREA\", \"Year\"]\n",
    ").merge(\n",
    "    marriage_data_long, on=[\"AREA\", \"Year\"]\n",
    ")\n",
    "\n"
   ]
  },
  {
   "cell_type": "code",
   "execution_count": null,
   "metadata": {
    "vscode": {
     "languageId": "plaintext"
    }
   },
   "outputs": [],
   "source": [
    "# Display column names for each dataset to identify inconsistencies\n",
    "birth_data.columns, fertile_women_data.columns, education_expenses_data.columns, wage_data.columns, house_price_data.columns, marriage_data.columns\n"
   ]
  },
  {
   "cell_type": "code",
   "execution_count": null,
   "metadata": {
    "vscode": {
     "languageId": "plaintext"
    }
   },
   "outputs": [],
   "source": [
    "# Standardize column names for consistency\n",
    "education_expenses_data.columns = education_expenses_data.columns.str.replace(',', '').str.strip()\n",
    "wage_data = wage_data.rename(columns={\"AGE\": \"AREA\"})\n",
    "\n",
    "# Reshape the data again\n",
    "birth_data_long = reshape_data(birth_data, \"Births\")\n",
    "fertile_women_long = reshape_data(fertile_women_data, \"Fertile_Women\")\n",
    "education_expenses_long = reshape_data(education_expenses_data, \"Education_Expenses\")\n",
    "wage_data_long = reshape_data(wage_data, \"Wages\")\n",
    "house_price_long = reshape_data(house_price_data, \"House_Price\")\n",
    "marriage_data_long = reshape_data(marriage_data, \"Marriages\")\n",
    "\n",
    "# Merge all datasets on AREA and Year\n",
    "merged_data = birth_data_long.merge(\n",
    "    fertile_women_long, on=[\"AREA\", \"Year\"]\n",
    ").merge(\n",
    "    education_expenses_long, on=[\"AREA\", \"Year\"]\n",
    ").merge(\n",
    "    wage_data_long, on=[\"AREA\", \"Year\"]\n",
    ").merge(\n",
    "    house_price_long, on=[\"AREA\", \"Year\"]\n",
    ").merge(\n",
    "    marriage_data_long, on=[\"AREA\", \"Year\"]\n",
    ")\n",
    "\n"
   ]
  },
  {
   "cell_type": "code",
   "execution_count": null,
   "metadata": {
    "vscode": {
     "languageId": "plaintext"
    }
   },
   "outputs": [],
   "source": [
    "# Check unique values of AREA and Year in each dataset for discrepancies\n",
    "birth_areas = birth_data_long['AREA'].unique()\n",
    "fertile_women_areas = fertile_women_long['AREA'].unique()\n",
    "education_expenses_areas = education_expenses_long['AREA'].unique()\n",
    "wage_areas = wage_data_long['AREA'].unique()\n",
    "house_price_areas = house_price_long['AREA'].unique()\n",
    "marriage_areas = marriage_data_long['AREA'].unique()\n",
    "\n",
    "# Identify mismatches in AREA\n",
    "area_sets = {\n",
    "    \"Birth Data\": set(birth_areas),\n",
    "    \"Fertile Women Data\": set(fertile_women_areas),\n",
    "    \"Education Expenses Data\": set(education_expenses_areas),\n",
    "    \"Wage Data\": set(wage_areas),\n",
    "    \"House Price Data\": set(house_price_areas),\n",
    "    \"Marriage Data\": set(marriage_areas),\n",
    "}\n",
    "\n",
    "# Find differences\n",
    "area_differences = {name: list(area_sets[\"Birth Data\"] - areas) for name, areas in area_sets.items()}\n",
    "area_differences\n"
   ]
  },
  {
   "cell_type": "code",
   "execution_count": null,
   "metadata": {
    "vscode": {
     "languageId": "plaintext"
    }
   },
   "outputs": [],
   "source": [
    "# Remove 'ADD_UP' from education_expenses_data\n",
    "education_expenses_long = education_expenses_long[education_expenses_long[\"AREA\"] != \"ADD_UP\"]\n",
    "\n",
    "# Exclude wage_data from the merging process temporarily\n",
    "merged_data = birth_data_long.merge(\n",
    "    fertile_women_long, on=[\"AREA\", \"Year\"]\n",
    ").merge(\n",
    "    education_expenses_long, on=[\"AREA\", \"Year\"]\n",
    ").merge(\n",
    "    house_price_long, on=[\"AREA\", \"Year\"]\n",
    ").merge(\n",
    "    marriage_data_long, on=[\"AREA\", \"Year\"]\n",
    ")\n"
   ]
  },
  {
   "cell_type": "code",
   "execution_count": null,
   "metadata": {
    "vscode": {
     "languageId": "plaintext"
    }
   },
   "outputs": [],
   "source": [
    "# Clean and convert columns to numeric where necessary\n",
    "merged_data[\"Births\"] = pd.to_numeric(merged_data[\"Births\"], errors=\"coerce\")\n",
    "merged_data[\"Fertile_Women\"] = pd.to_numeric(merged_data[\"Fertile_Women\"], errors=\"coerce\")\n",
    "merged_data[\"Education_Expenses\"] = pd.to_numeric(merged_data[\"Education_Expenses\"].str.replace(\",\", \"\"), errors=\"coerce\")\n",
    "merged_data[\"House_Price\"] = pd.to_numeric(merged_data[\"House_Price\"], errors=\"coerce\")\n",
    "merged_data[\"Marriages\"] = pd.to_numeric(merged_data[\"Marriages\"].str.replace(\",\", \"\"), errors=\"coerce\")\n",
    "\n",
    "# Drop rows with missing values\n",
    "cleaned_data = merged_data.dropna()\n",
    "\n"
   ]
  },
  {
   "cell_type": "code",
   "execution_count": null,
   "metadata": {
    "vscode": {
     "languageId": "plaintext"
    }
   },
   "outputs": [],
   "source": [
    "from sklearn.model_selection import train_test_split\n",
    "from sklearn.linear_model import LinearRegression\n",
    "from sklearn.metrics import mean_squared_error, r2_score\n",
    "\n",
    "# Define independent variables (X) and dependent variable (y)\n",
    "X = cleaned_data[[\"Fertile_Women\", \"Education_Expenses\", \"House_Price\", \"Marriages\"]]\n",
    "y = cleaned_data[\"Births\"]\n",
    "\n",
    "# Split data into training and testing sets\n",
    "X_train, X_test, y_train, y_test = train_test_split(X, y, test_size=0.2, random_state=42)\n",
    "\n",
    "# Create and train the model\n",
    "model = LinearRegression()\n",
    "model.fit(X_train, y_train)\n",
    "\n",
    "# Predict on the test set\n",
    "y_pred = model.predict(X_test)\n",
    "\n",
    "# Evaluate the model\n",
    "mse = mean_squared_error(y_test, y_pred)\n",
    "r2 = r2_score(y_test, y_pred)\n",
    "\n",
    "mse, r2\n"
   ]
  },
  {
   "cell_type": "code",
   "execution_count": null,
   "metadata": {
    "vscode": {
     "languageId": "plaintext"
    }
   },
   "outputs": [],
   "source": [
    "import matplotlib.pyplot as plt\n",
    "\n",
    "# Plot pairwise relationships between variables to visualize correlations\n",
    "pd.plotting.scatter_matrix(cleaned_data[[\"Births\", \"Fertile_Women\", \"Education_Expenses\", \"House_Price\", \"Marriages\"]],\n",
    "                           figsize=(12, 12), alpha=0.8, diagonal='hist')\n",
    "\n",
    "plt.suptitle(\"Pairwise Relationships Between Variables\", fontsize=16)\n",
    "plt.show()"
   ]
  },
  {
   "cell_type": "code",
   "execution_count": null,
   "metadata": {
    "vscode": {
     "languageId": "plaintext"
    }
   },
   "outputs": [],
   "source": [
    "import matplotlib.pyplot as plt\n",
    "import numpy as np\n",
    "\n",
    "# 실제 값 vs 예측 값 비교\n",
    "plt.figure(figsize=(10, 6))\n",
    "plt.scatter(y_test, y_pred, alpha=0.7)\n",
    "plt.plot([min(y_test), max(y_test)], [min(y_test), max(y_test)], color=\"red\", linestyle=\"--\", label=\"Perfect Prediction\")\n",
    "plt.title(\"Actual vs Predicted Births\")\n",
    "plt.xlabel(\"Actual Births\")\n",
    "plt.ylabel(\"Predicted Births\")\n",
    "plt.legend()\n",
    "plt.grid(True)\n",
    "plt.show()\n",
    "\n",
    "# 잔차 분석\n",
    "residuals = y_test - y_pred\n",
    "\n",
    "plt.figure(figsize=(10, 6))\n",
    "plt.scatter(y_pred, residuals, alpha=0.7)\n",
    "plt.axhline(0, color=\"red\", linestyle=\"--\", label=\"Zero Residual\")\n",
    "plt.title(\"Residuals vs Predicted Values\")\n",
    "plt.xlabel(\"Predicted Values\")\n",
    "plt.ylabel(\"Residuals\")\n",
    "plt.legend()\n",
    "plt.grid(True)\n",
    "plt.show()\n",
    "\n",
    "# 회귀 계수 시각화\n",
    "coefficients = model.coef_\n",
    "features = X.columns\n",
    "\n",
    "plt.figure(figsize=(10, 6))\n",
    "plt.bar(features, coefficients, alpha=0.7, color=\"skyblue\")\n",
    "plt.title(\"Regression Coefficients\")\n",
    "plt.xlabel(\"Features\")\n",
    "plt.ylabel(\"Coefficient Value\")\n",
    "plt.grid(True, axis=\"y\")\n",
    "plt.show()"
   ]
  }
 ],
 "metadata": {
  "language_info": {
   "name": "python"
  }
 },
 "nbformat": 4,
 "nbformat_minor": 2
}
